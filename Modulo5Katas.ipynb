{
 "cells": [
  {
   "cell_type": "markdown",
   "metadata": {},
   "source": [
    "\n",
    "Ejercicio1 - Utilizar operadores aritméticos"
   ]
  },
  {
   "cell_type": "code",
   "execution_count": 9,
   "metadata": {},
   "outputs": [
    {
     "name": "stdout",
     "output_type": "stream",
     "text": [
      "149597870\n",
      "778547200\n"
     ]
    }
   ],
   "source": [
    "# Crear variables para almacenar las dos distancias\n",
    "# ¡Asegúrate de quitar las comas!\n",
    "distancia_km_Tierra = 149597870\n",
    "distancia_km_Jupiter = 778547200\n",
    "print(distancia_km_Tierra)\n",
    "print(distancia_km_Jupiter)"
   ]
  },
  {
   "cell_type": "code",
   "execution_count": 12,
   "metadata": {},
   "outputs": [
    {
     "name": "stdout",
     "output_type": "stream",
     "text": [
      "-628949330\n",
      "-390577533.93\n"
     ]
    }
   ],
   "source": [
    "distancia_km_Tierra = 149597870\n",
    "distancia_km_Jupiter = 778547200\n",
    "display_distancia_entre_planetas = distancia_km_Tierra - distancia_km_Jupiter\n",
    "distancia_en_km = display_distancia_entre_planetas * 0.621\n",
    "print(display_distancia_entre_planetas)\n",
    "print(distancia_en_km)"
   ]
  },
  {
   "cell_type": "markdown",
   "metadata": {},
   "source": [
    "Ejercicio 2: convierte cadenas en números y usa valores absolutos"
   ]
  },
  {
   "cell_type": "code",
   "execution_count": 18,
   "metadata": {},
   "outputs": [],
   "source": [
    "# Almacenar las entradas del usuario\n",
    "#Pista: variable = input(\"¿Cuál es tu nombre?\")\n",
    "distancia_km_Tierra = input('Introduzca la distancia del sol para el primer planeta en KM')\n",
    "distancia_km_Jupiter = input('Introduzca la distancia desde el sol para el segundo planeta en KM')\n"
   ]
  },
  {
   "cell_type": "code",
   "execution_count": 20,
   "metadata": {},
   "outputs": [
    {
     "ename": "ValueError",
     "evalue": "invalid literal for int() with base 10: '5448}4'",
     "output_type": "error",
     "traceback": [
      "\u001b[1;31m---------------------------------------------------------------------------\u001b[0m",
      "\u001b[1;31mValueError\u001b[0m                                Traceback (most recent call last)",
      "\u001b[1;32mc:\\Users\\vafde\\Desktop\\INNOVACION VIRTUAL\\Curso Python\\Modulo5Katas.ipynb Cell 6'\u001b[0m in \u001b[0;36m<module>\u001b[1;34m\u001b[0m\n\u001b[0;32m      <a href='vscode-notebook-cell:/c%3A/Users/vafde/Desktop/INNOVACION%20VIRTUAL/Curso%20Python/Modulo5Katas.ipynb#ch0000006?line=0'>1</a>\u001b[0m \u001b[39m# Convierte las cadenas de ambos planetas a números enteros\u001b[39;00m\n\u001b[0;32m      <a href='vscode-notebook-cell:/c%3A/Users/vafde/Desktop/INNOVACION%20VIRTUAL/Curso%20Python/Modulo5Katas.ipynb#ch0000006?line=1'>2</a>\u001b[0m distancia_km_Tierra \u001b[39m=\u001b[39m \u001b[39mint\u001b[39m(distancia_km_Tierra)\n\u001b[1;32m----> <a href='vscode-notebook-cell:/c%3A/Users/vafde/Desktop/INNOVACION%20VIRTUAL/Curso%20Python/Modulo5Katas.ipynb#ch0000006?line=2'>3</a>\u001b[0m distancia_km_Jupiter \u001b[39m=\u001b[39m \u001b[39mint\u001b[39;49m(distancia_km_Jupiter)\n",
      "\u001b[1;31mValueError\u001b[0m: invalid literal for int() with base 10: '5448}4'"
     ]
    }
   ],
   "source": [
    "# Convierte las cadenas de ambos planetas a números enteros\n",
    "distancia_km_Tierra = int(distancia_km_Tierra)\n",
    "distancia_km_Jupiter = int(distancia_km_Jupiter)"
   ]
  },
  {
   "cell_type": "code",
   "execution_count": 21,
   "metadata": {},
   "outputs": [
    {
     "ename": "TypeError",
     "evalue": "unsupported operand type(s) for -: 'int' and 'str'",
     "output_type": "error",
     "traceback": [
      "\u001b[1;31m---------------------------------------------------------------------------\u001b[0m",
      "\u001b[1;31mTypeError\u001b[0m                                 Traceback (most recent call last)",
      "\u001b[1;32mc:\\Users\\vafde\\Desktop\\INNOVACION VIRTUAL\\Curso Python\\Modulo5Katas.ipynb Cell 7'\u001b[0m in \u001b[0;36m<module>\u001b[1;34m\u001b[0m\n\u001b[0;32m      <a href='vscode-notebook-cell:/c%3A/Users/vafde/Desktop/INNOVACION%20VIRTUAL/Curso%20Python/Modulo5Katas.ipynb#ch0000007?line=0'>1</a>\u001b[0m \u001b[39m# Realizar el cálculo y determinar el valor absoluto\u001b[39;00m\n\u001b[0;32m      <a href='vscode-notebook-cell:/c%3A/Users/vafde/Desktop/INNOVACION%20VIRTUAL/Curso%20Python/Modulo5Katas.ipynb#ch0000007?line=1'>2</a>\u001b[0m \u001b[39m# Convertir de KM a Millas\u001b[39;00m\n\u001b[1;32m----> <a href='vscode-notebook-cell:/c%3A/Users/vafde/Desktop/INNOVACION%20VIRTUAL/Curso%20Python/Modulo5Katas.ipynb#ch0000007?line=2'>3</a>\u001b[0m display_distancia_entre_planetas \u001b[39m=\u001b[39m distancia_km_Tierra \u001b[39m-\u001b[39;49m distancia_km_Jupiter\n\u001b[0;32m      <a href='vscode-notebook-cell:/c%3A/Users/vafde/Desktop/INNOVACION%20VIRTUAL/Curso%20Python/Modulo5Katas.ipynb#ch0000007?line=3'>4</a>\u001b[0m distancia_en_km \u001b[39m=\u001b[39m display_distancia_entre_planetas \u001b[39m*\u001b[39m \u001b[39m0.621\u001b[39m\n\u001b[0;32m      <a href='vscode-notebook-cell:/c%3A/Users/vafde/Desktop/INNOVACION%20VIRTUAL/Curso%20Python/Modulo5Katas.ipynb#ch0000007?line=4'>5</a>\u001b[0m \u001b[39mprint\u001b[39m(distancia_en_km)\n",
      "\u001b[1;31mTypeError\u001b[0m: unsupported operand type(s) for -: 'int' and 'str'"
     ]
    }
   ],
   "source": [
    "# Realizar el cálculo y determinar el valor absoluto\n",
    "# Convertir de KM a Millas\n",
    "display_distancia_entre_planetas = distancia_km_Tierra - distancia_km_Jupiter\n",
    "distancia_en_km = display_distancia_entre_planetas * 0.621\n",
    "print((abs(distancia_en_km))\n"
   ]
  },
  {
   "cell_type": "code",
   "execution_count": 23,
   "metadata": {},
   "outputs": [
    {
     "name": "stdout",
     "output_type": "stream",
     "text": [
      "31236300.0\n"
     ]
    }
   ],
   "source": [
    "distancia_km_Tierra = input('Introduzca la distancia del sol para el primer planeta en KM')\n",
    "distancia_km_Jupiter = input('Introduzca la distancia desde el sol para el segundo planeta en KM')\n",
    "distancia_km_Tierra = int(distancia_km_Tierra)\n",
    "distancia_km_Jupiter = int(distancia_km_Jupiter)\n",
    "display_distancia_entre_planetas = distancia_km_Tierra - distancia_km_Jupiter\n",
    "distancia_en_km = display_distancia_entre_planetas * 0.621\n",
    "print(abs(distancia_en_km))\n",
    "\n"
   ]
  }
 ],
 "metadata": {
  "interpreter": {
   "hash": "23e7ade44fa10cd325d2fccffdd26d0c56556da5c48595d85eb51012c2a35e71"
  },
  "kernelspec": {
   "display_name": "Python 3.10.2 64-bit",
   "language": "python",
   "name": "python3"
  },
  "language_info": {
   "codemirror_mode": {
    "name": "ipython",
    "version": 3
   },
   "file_extension": ".py",
   "mimetype": "text/x-python",
   "name": "python",
   "nbconvert_exporter": "python",
   "pygments_lexer": "ipython3",
   "version": "3.10.2"
  },
  "orig_nbformat": 4
 },
 "nbformat": 4,
 "nbformat_minor": 2
}
